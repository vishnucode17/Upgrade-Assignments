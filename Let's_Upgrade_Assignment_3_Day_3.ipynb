{
  "nbformat": 4,
  "nbformat_minor": 0,
  "metadata": {
    "colab": {
      "name": "Let's Upgrade Assignment -3 Day 3",
      "provenance": [],
      "authorship_tag": "ABX9TyPcfZ98qdyU0dy7NGEhKJlS",
      "include_colab_link": true
    },
    "kernelspec": {
      "name": "python3",
      "display_name": "Python 3"
    }
  },
  "cells": [
    {
      "cell_type": "markdown",
      "metadata": {
        "id": "view-in-github",
        "colab_type": "text"
      },
      "source": [
        "<a href=\"https://colab.research.google.com/github/vishnucode17/Upgrade-Assignments/blob/main/Let's_Upgrade_Assignment_3_Day_3.ipynb\" target=\"_parent\"><img src=\"https://colab.research.google.com/assets/colab-badge.svg\" alt=\"Open In Colab\"/></a>"
      ]
    },
    {
      "cell_type": "markdown",
      "metadata": {
        "id": "V2VdtNeEYiEI"
      },
      "source": [
        "# Question 1"
      ]
    },
    {
      "cell_type": "markdown",
      "metadata": {
        "id": "eKEch91UYi-r"
      },
      "source": [
        "Create a numpy array starting from 2 till 50 with a stepsize of 3."
      ]
    },
    {
      "cell_type": "code",
      "metadata": {
        "id": "muq4uATdYdop",
        "outputId": "2e7798ed-fa7f-4d9d-baa3-0f2af10924d9",
        "colab": {
          "base_uri": "https://localhost:8080/"
        }
      },
      "source": [
        "import numpy as np # importing numpy library as np \n",
        "arr=np.arange(2,50,3) # arange() function is used to get consective numbers and if 3rd parameter denotes the stepsize\n",
        "print(arr) # printing arr"
      ],
      "execution_count": null,
      "outputs": [
        {
          "output_type": "stream",
          "text": [
            "[ 2  5  8 11 14 17 20 23 26 29 32 35 38 41 44 47]\n"
          ],
          "name": "stdout"
        }
      ]
    },
    {
      "cell_type": "markdown",
      "metadata": {
        "id": "F7q5FHlJY3jL"
      },
      "source": [
        "# Question 2"
      ]
    },
    {
      "cell_type": "markdown",
      "metadata": {
        "id": "GHI4Buu9Y3UR"
      },
      "source": [
        "Accept two lists of 5 elements each from the user.\n",
        "Convert them to numpy arrays. Concatenate these arrays and print it. Also sort these arrays and print it."
      ]
    },
    {
      "cell_type": "code",
      "metadata": {
        "id": "YZ27vmXZYyJk",
        "outputId": "f9f850d6-6683-4be5-a0ef-e5940d0db6c0",
        "colab": {
          "base_uri": "https://localhost:8080/"
        }
      },
      "source": [
        "lst=[] # intialising an empty list\n",
        "for x in range(5):\n",
        "  a=[int(x) for x in input().split(',')] # taking input from user and storing them in list a\n",
        "  lst.append(a) # appending the list a to list lst\n",
        "np.array(lst) # converting list to numpy array"
      ],
      "execution_count": null,
      "outputs": [
        {
          "output_type": "stream",
          "text": [
            "1,2,3\n",
            "4,5,6\n",
            "7,8,9\n",
            "10,11,12\n",
            "13,14,15\n"
          ],
          "name": "stdout"
        },
        {
          "output_type": "execute_result",
          "data": {
            "text/plain": [
              "array([[ 1,  2,  3],\n",
              "       [ 4,  5,  6],\n",
              "       [ 7,  8,  9],\n",
              "       [10, 11, 12],\n",
              "       [13, 14, 15]])"
            ]
          },
          "metadata": {
            "tags": []
          },
          "execution_count": 36
        }
      ]
    },
    {
      "cell_type": "markdown",
      "metadata": {
        "id": "bD7HkqS-aOSV"
      },
      "source": [
        "# Question 3"
      ]
    },
    {
      "cell_type": "markdown",
      "metadata": {
        "id": "W2OUwDtIaPtN"
      },
      "source": [
        "Write a code snippet to find the dimensions of a ndarray and its size."
      ]
    },
    {
      "cell_type": "code",
      "metadata": {
        "id": "mLpErIizZtSp",
        "outputId": "dcf2f254-e64a-44a4-8c7a-c531e6604f03",
        "colab": {
          "base_uri": "https://localhost:8080/"
        }
      },
      "source": [
        "arr=np.array([[1,2,3],[3,4,5],[3,4,6]]) # creating a numpy array\n",
        "print(arr.ndim) # printing the dimesions of an array\n",
        "print(arr.shape) # printing the shape of an array\n",
        "print(arr.size) # printing the size of an array"
      ],
      "execution_count": null,
      "outputs": [
        {
          "output_type": "stream",
          "text": [
            "2\n",
            "(3, 3)\n",
            "9\n"
          ],
          "name": "stdout"
        }
      ]
    },
    {
      "cell_type": "markdown",
      "metadata": {
        "id": "QxD0tYRlbQqR"
      },
      "source": [
        "# Question 4"
      ]
    },
    {
      "cell_type": "markdown",
      "metadata": {
        "id": "si0I7_VObQuI"
      },
      "source": [
        "How to convert a 1D array into a 2D array? Demonstrate with the help of a code snippet\n",
        "Hint: np.newaxis, np.expand_dims"
      ]
    },
    {
      "cell_type": "code",
      "metadata": {
        "id": "PsxqlK7ha3UX",
        "outputId": "42726f59-6bfc-4e13-ba96-38e209262a4d",
        "colab": {
          "base_uri": "https://localhost:8080/"
        }
      },
      "source": [
        "# converting a 1D array to 2D array can be acheived by reshaping the dimensions of the array by using reshape function in numpy library\n",
        "arr=np.array([1,2,3,4]) # creating a numpy array of shape (4,)\n",
        "print(arr.ndim) # checking the dimensions of array\n",
        "arr=arr.reshape(2,2) # reshaping (4,) 1D array to (2,2) 2D array\n",
        "print(arr.ndim) # checking the dimensions of the array\n",
        "print(arr)"
      ],
      "execution_count": null,
      "outputs": [
        {
          "output_type": "stream",
          "text": [
            "1\n",
            "2\n",
            "[[1 2]\n",
            " [3 4]]\n"
          ],
          "name": "stdout"
        }
      ]
    },
    {
      "cell_type": "code",
      "metadata": {
        "id": "hPfLfFQWGG_x",
        "outputId": "2a709f3a-9a4d-4715-e600-bd02e8045c4c",
        "colab": {
          "base_uri": "https://localhost:8080/"
        }
      },
      "source": [
        "# another way using np.expand_dims without reshaping\n",
        "arr=np.array([1,2,3,4]) # creating a numpy array of shape (4,)\n",
        "new_arr = np.expand_dims(a, axis=0) # declaring new array named new_arr for expanding dimensions of array arr\n",
        "print(new_arr) # printing the new_arr\n",
        "print(new_arr.ndim) # printing the dimensions of the new_arr"
      ],
      "execution_count": null,
      "outputs": [
        {
          "output_type": "stream",
          "text": [
            "[[13 14 15]]\n",
            "2\n"
          ],
          "name": "stdout"
        }
      ]
    },
    {
      "cell_type": "markdown",
      "metadata": {
        "id": "3yOBu6CDSuXw"
      },
      "source": [
        "# Question 5"
      ]
    },
    {
      "cell_type": "markdown",
      "metadata": {
        "id": "A96Fa8DWSudQ"
      },
      "source": [
        "Consider two square numpy arrays. Stack them vertically and horizontally.\n",
        "Hint: Use vstack(), hstack()"
      ]
    },
    {
      "cell_type": "code",
      "metadata": {
        "id": "l6amin2QQYa9",
        "outputId": "b4240c7b-ee33-476e-858c-cd506e211c5b",
        "colab": {
          "base_uri": "https://localhost:8080/"
        }
      },
      "source": [
        "arr1=np.array([[1,2],[3,4]]) # creating a square array and naming it as arr1\n",
        "arr2=np.array([[7,8],[9,10]]) # craeting a square array and naming it as arr2\n",
        "v_arr=np.vstack((arr1,arr2)) # using vstack for stacking two arrays vertically\n",
        "print(v_arr) # printing vertically stacked array\n",
        "h_arr=np.hstack((arr1,arr2)) # using hstack for stcaking two arrays horizontally\n",
        "print(h_arr) # printing horixantally staked array"
      ],
      "execution_count": null,
      "outputs": [
        {
          "output_type": "stream",
          "text": [
            "[[ 1  2]\n",
            " [ 3  4]\n",
            " [ 7  8]\n",
            " [ 9 10]]\n",
            "[[ 1  2  7  8]\n",
            " [ 3  4  9 10]]\n"
          ],
          "name": "stdout"
        }
      ]
    },
    {
      "cell_type": "markdown",
      "metadata": {
        "id": "O7M3bh7bUnts"
      },
      "source": [
        "# Question 6"
      ]
    },
    {
      "cell_type": "markdown",
      "metadata": {
        "id": "G4ALa0c9Unw4"
      },
      "source": [
        "How to get unique items and counts of unique items?"
      ]
    },
    {
      "cell_type": "code",
      "metadata": {
        "id": "mfwviBFITWmc",
        "outputId": "7f5f9a08-f89b-402a-a05d-b7be7d4d7b82",
        "colab": {
          "base_uri": "https://localhost:8080/"
        }
      },
      "source": [
        "arr=np.array([1,2,3,1,2,1,3,4,3,5,6,7,8]) # initialising a numpy array \n",
        "result_arr=np.unique(arr,return_counts=True) # using np.unique function returns the unique elements in the array and its count when return_counts is True\n",
        "print(result_arr) #printing the resulting array"
      ],
      "execution_count": null,
      "outputs": [
        {
          "output_type": "stream",
          "text": [
            "(array([1, 2, 3, 4, 5, 6, 7, 8]), array([3, 2, 3, 1, 1, 1, 1, 1]))\n"
          ],
          "name": "stdout"
        }
      ]
    }
  ]
}