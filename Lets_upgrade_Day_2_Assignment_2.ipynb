{
  "nbformat": 4,
  "nbformat_minor": 0,
  "metadata": {
    "colab": {
      "name": "Lets upgrade Day 2 Assignment 2",
      "provenance": [],
      "authorship_tag": "ABX9TyOqEab5yrl5jwbtGUUKOSym",
      "include_colab_link": true
    },
    "kernelspec": {
      "name": "python3",
      "display_name": "Python 3"
    }
  },
  "cells": [
    {
      "cell_type": "markdown",
      "metadata": {
        "id": "view-in-github",
        "colab_type": "text"
      },
      "source": [
        "<a href=\"https://colab.research.google.com/github/vishnucode17/Upgrade-Assignments/blob/main/Lets_upgrade_Day_2_Assignment_2.ipynb\" target=\"_parent\"><img src=\"https://colab.research.google.com/assets/colab-badge.svg\" alt=\"Open In Colab\"/></a>"
      ]
    },
    {
      "cell_type": "markdown",
      "metadata": {
        "id": "E5KSP2svEaqH"
      },
      "source": [
        "# Question 1"
      ]
    },
    {
      "cell_type": "markdown",
      "metadata": {
        "id": "irlU1ZLiEaMk"
      },
      "source": [
        "Create an empty list. Accept 10 numbers from the user and append to it the list if it is an even number."
      ]
    },
    {
      "cell_type": "code",
      "metadata": {
        "id": "dKYE6cgmEM9d",
        "outputId": "e2a826e5-5202-4599-af79-0587ddd4fc61",
        "colab": {
          "base_uri": "https://localhost:8080/"
        }
      },
      "source": [
        "lst=[] # creating empty list of name lst\n",
        "for num in range(10): # for loop for running ten iterations\n",
        "  n=int(input()) # taking integer input from user and storing in variable n\n",
        "  if n%2==0: # checking whether the number is even\n",
        "    lst.append(n) # append n in list lst\n",
        "print(lst) #print list of even numbers entered by user"
      ],
      "execution_count": null,
      "outputs": [
        {
          "output_type": "stream",
          "text": [
            "1\n",
            "2\n",
            "3\n",
            "4\n",
            "5\n",
            "6\n",
            "7\n",
            "8\n",
            "9\n",
            "10\n",
            "[2, 4, 6, 8, 10]\n"
          ],
          "name": "stdout"
        }
      ]
    },
    {
      "cell_type": "markdown",
      "metadata": {
        "id": "c0v8X3F6F5Mr"
      },
      "source": [
        "# Question 2"
      ]
    },
    {
      "cell_type": "markdown",
      "metadata": {
        "id": "9rFtTauZF5BF"
      },
      "source": [
        "Create a notebook on LIST COMPREHENSION. This exercise is to put you in a Self learning mode\n",
        "\n"
      ]
    },
    {
      "cell_type": "markdown",
      "metadata": {
        "id": "LyKdhJmDQJ3U"
      },
      "source": [
        "List comprehensions are used in creating new lists from other iterables"
      ]
    },
    {
      "cell_type": "markdown",
      "metadata": {
        "id": "wNg7eC0cQVxF"
      },
      "source": [
        "**For Example**"
      ]
    },
    {
      "cell_type": "code",
      "metadata": {
        "id": "qIsnhQvjFa_5",
        "outputId": "eb096e8c-9b8d-47a8-a67f-99d12b22677f",
        "colab": {
          "base_uri": "https://localhost:8080/"
        }
      },
      "source": [
        "lst1=[x**2 for x in range(1,11)] # list of square of numbers from 1 to 10\n",
        "lst2=[x for x in range(1,21) if x%2==0] # list of even numbers from 1 to 20\n",
        "print(lst1)\n",
        "print(lst2)"
      ],
      "execution_count": null,
      "outputs": [
        {
          "output_type": "stream",
          "text": [
            "[1, 4, 9, 16, 25, 36, 49, 64, 81, 100]\n",
            "[2, 4, 6, 8, 10, 12, 14, 16, 18, 20]\n"
          ],
          "name": "stdout"
        }
      ]
    },
    {
      "cell_type": "markdown",
      "metadata": {
        "id": "o5g0SeYAGyRL"
      },
      "source": [
        "# Question 3"
      ]
    },
    {
      "cell_type": "markdown",
      "metadata": {
        "id": "-7GqffOSGynh"
      },
      "source": [
        "You have seen in the videos how powerful dictionary data structure is.\n",
        "In this assignment, given a number n, you have to write a program that generates a dictionary d which\n",
        "contains (i, i*i), where i is from 1 to n (both included).\n",
        "Then you have to just print this dictionary d.\n",
        "Example:\n",
        "Input: 4\n",
        "will give output as\n",
        "{1: 1, 2: 4, 3: 9, 4: 16}\n",
        "Input Format:\n",
        "Take the number n in a single line.\n",
        "Output Format:\n",
        "Print the dictionary d in a single line.\n",
        "Example:\n",
        "Input:\n",
        "8\n",
        "Output:\n",
        "{1: 1, 2: 4, 3: 9, 4: 16, 5: 25, 6: 36, 7: 49, 8: 64}"
      ]
    },
    {
      "cell_type": "code",
      "metadata": {
        "id": "EhCGi64HG4NP",
        "outputId": "92d45468-3267-476d-dd2d-3bb75dbaa182",
        "colab": {
          "base_uri": "https://localhost:8080/"
        }
      },
      "source": [
        "n=int(input()) # taking integer input from user and storing in variable n\n",
        "mydict={} # intialising the empty dictionary\n",
        "for x in range(1,n+1):\n",
        "  mydict[x]=x**2 # adding new key and its value to the mydict dictionary\n",
        "print(mydict)"
      ],
      "execution_count": null,
      "outputs": [
        {
          "output_type": "stream",
          "text": [
            "5\n",
            "{1: 1, 2: 4, 3: 9, 4: 16, 5: 25}\n"
          ],
          "name": "stdout"
        }
      ]
    },
    {
      "cell_type": "markdown",
      "metadata": {
        "id": "P4B_DZ0wIx7U"
      },
      "source": [
        "# Question 4"
      ]
    },
    {
      "cell_type": "markdown",
      "metadata": {
        "id": "pLdt_bG8Ixz3"
      },
      "source": [
        "There is a robot which wants to go the charging point to charge itself.\n",
        "The robot moves in a 2-D plane from the original point (0,0). The robot can\n",
        "move toward UP, DOWN, LEFT and RIGHT with given steps.\n",
        "The trace of robot movement is shown as the following:\n",
        "UP 5\n",
        "DOWN 3\n",
        "LEFT 3\n",
        "RIGHT 2\n",
        "Then, the output of the program should be:\n",
        "2\n",
        "The numbers after the direction are steps.\n",
        "Write a program to compute the distance between the current position after\n",
        "a sequence of movement and original point. If the distance is a float, then\n",
        "just print the nearest integer (use round() function for that and then convert\n",
        "it into an integer).\n",
        "Input Format:\n",
        "The first line of the input contains a number n which implies the number of\n",
        "directions to be given.\n",
        "The next n lines contain the direction and the step separated by a space.\n",
        "Output Format:\n",
        "Print the distance from the original position to the current position.\n",
        "Example:\n",
        "Input:\n",
        "4\n",
        "UP 5\n",
        "DOWN 3\n",
        "LEFT 3\n",
        "RIGHT 2\n",
        "Output:\n",
        "2"
      ]
    },
    {
      "cell_type": "code",
      "metadata": {
        "id": "YrTC0KO5Ic-k",
        "outputId": "7fac7d78-c528-413d-9db8-dd88b47c93f1",
        "colab": {
          "base_uri": "https://localhost:8080/"
        }
      },
      "source": [
        "# This problem can be solved by using vector method\n",
        "import math # importing math library\n",
        "n=int(input()) # taking integer as input and stored in variable n\n",
        "x_dist=0 #initialising x_dist with 0\n",
        "y_dist=0 #initialising y_dist with 0\n",
        "for x in range(n):\n",
        "  direction,distance=input().split(' ') #taking direction and distance as input\n",
        "  if direction=='UP':\n",
        "    y_dist+=int(distance) # incrementing y_dist by distance\n",
        "  elif direction=='DOWN':\n",
        "    y_dist-=int(distance) # decremeting y_dist by distance\n",
        "  elif direction=='RIGHT':\n",
        "    x_dist+=int(distance) # incrementing x_dist by distance\n",
        "  elif direction == 'LEFT':\n",
        "    x_dist-=int(distance) # decrementing x_dist by distance\n",
        "short_dist=math.sqrt((x_dist**2)+(y_dist**2))\n",
        "print(round(short_dist))"
      ],
      "execution_count": null,
      "outputs": [
        {
          "output_type": "stream",
          "text": [
            "2\n",
            "LEFT 3\n",
            "UP 2\n",
            "4\n"
          ],
          "name": "stdout"
        }
      ]
    },
    {
      "cell_type": "code",
      "metadata": {
        "id": "kPcF9sebNCw0",
        "outputId": "3f39ab65-a3df-45c5-9b06-7c43b51f4775",
        "colab": {
          "base_uri": "https://localhost:8080/"
        }
      },
      "source": [
        "x,y=10,20\n",
        "print(x,y)\n",
        "x,y=y,x\n",
        "print(x,y)"
      ],
      "execution_count": null,
      "outputs": [
        {
          "output_type": "stream",
          "text": [
            "10 20\n",
            "20 10\n"
          ],
          "name": "stdout"
        }
      ]
    },
    {
      "cell_type": "code",
      "metadata": {
        "id": "4z6ats8jNnxv"
      },
      "source": [
        ""
      ],
      "execution_count": null,
      "outputs": []
    }
  ]
}