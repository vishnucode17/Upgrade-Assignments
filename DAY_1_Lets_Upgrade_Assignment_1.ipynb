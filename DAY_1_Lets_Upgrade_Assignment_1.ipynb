{
  "nbformat": 4,
  "nbformat_minor": 0,
  "metadata": {
    "colab": {
      "name": "DAY-1 Lets Upgrade Assignment-1",
      "provenance": [],
      "authorship_tag": "ABX9TyPgYG8jZw71lFlziztuo1WS",
      "include_colab_link": true
    },
    "kernelspec": {
      "name": "python3",
      "display_name": "Python 3"
    }
  },
  "cells": [
    {
      "cell_type": "markdown",
      "metadata": {
        "id": "view-in-github",
        "colab_type": "text"
      },
      "source": [
        "<a href=\"https://colab.research.google.com/github/vishnucode17/Upgrade-Assignments/blob/main/DAY_1_Lets_Upgrade_Assignment_1.ipynb\" target=\"_parent\"><img src=\"https://colab.research.google.com/assets/colab-badge.svg\" alt=\"Open In Colab\"/></a>"
      ]
    },
    {
      "cell_type": "markdown",
      "metadata": {
        "id": "H2H_thXY8gb0"
      },
      "source": [
        "# Question 1"
      ]
    },
    {
      "cell_type": "markdown",
      "metadata": {
        "id": "8gR6n4nL8o-B"
      },
      "source": [
        "Given the following jumbled word, OBANWRI guess the correct English word.\n",
        "\n",
        "A. RANIBOW\n",
        "B. RAINBOW\n",
        "C. BOWRANI\n",
        "D. ROBWANI"
      ]
    },
    {
      "cell_type": "code",
      "metadata": {
        "id": "RhpPvROR-NxY",
        "outputId": "bed230a0-a08d-4fae-f4b9-fad6a07cdbc2",
        "colab": {
          "base_uri": "https://localhost:8080/"
        }
      },
      "source": [
        "import enchant\n",
        "d=enchant.Dict('en-US')\n",
        "word='OBANWRI'\n",
        "words=['RANIBOW','RAINBOW','BOWRANI','ROBWANI']\n",
        "for element in words:\n",
        "  if d.check(element)==True:\n",
        "    print(element)"
      ],
      "execution_count": 1,
      "outputs": [
        {
          "output_type": "stream",
          "text": [
            "RAINBOW\n"
          ],
          "name": "stdout"
        }
      ]
    },
    {
      "cell_type": "markdown",
      "metadata": {
        "id": "Z7gp8hvHETfS"
      },
      "source": [
        "# Question 2"
      ]
    },
    {
      "cell_type": "markdown",
      "metadata": {
        "id": "HNK0NBo7EdAu"
      },
      "source": [
        "Write a program which prints “LETS UPGRADE”. (Please note that you have to\n",
        "print in ALL CAPS as given)"
      ]
    },
    {
      "cell_type": "code",
      "metadata": {
        "id": "9nJVlTYtA6m1",
        "outputId": "20322d8b-c1ac-46a3-edd3-5321cf24dec4",
        "colab": {
          "base_uri": "https://localhost:8080/"
        }
      },
      "source": [
        "print('LETS UPGRADE')"
      ],
      "execution_count": 2,
      "outputs": [
        {
          "output_type": "stream",
          "text": [
            "LETS UPGRADE\n"
          ],
          "name": "stdout"
        }
      ]
    },
    {
      "cell_type": "markdown",
      "metadata": {
        "id": "NhskWNLtEqK8"
      },
      "source": [
        "# Question 3"
      ]
    },
    {
      "cell_type": "markdown",
      "metadata": {
        "id": "raVqBd8_Ep7R"
      },
      "source": [
        "Write a program that takes cost price and selling price as input and displays whether the transaction is a\n",
        "Profit or a Loss or Neither.\n",
        "INPUT FORMAT\n",
        "The first line contains the cost price.\n",
        "The second line contains the selling price.\n",
        "OUTPUT FORMAT\n",
        "Print \"Profit\" if the transaction is a profit or \"Loss\" if it is a loss. If it is neither\n",
        "profit nor loss, print \"Neither\". (You must not have quotes in your output)\n",
        "NOTE:\n",
        "Please stick to the input and output format. Don't add anything extra like\n",
        "'Enter cost price', 'Enter selling price', etc."
      ]
    },
    {
      "cell_type": "code",
      "metadata": {
        "id": "wpXhXdXBEpPQ",
        "outputId": "c82f1f31-4197-4ec9-dae6-9be5977da75a",
        "colab": {
          "base_uri": "https://localhost:8080/"
        }
      },
      "source": [
        "cost_price=int(input())\n",
        "selling_price=int(input())\n",
        "if cost_price==selling_price:\n",
        "  print('Neither')\n",
        "elif cost_price>selling_price:\n",
        "  print('Loss')\n",
        "else:\n",
        "  print('Profit')"
      ],
      "execution_count": 3,
      "outputs": [
        {
          "output_type": "stream",
          "text": [
            "20\n",
            "30\n",
            "Profit\n"
          ],
          "name": "stdout"
        }
      ]
    },
    {
      "cell_type": "markdown",
      "metadata": {
        "id": "_9TfLr_WF29m"
      },
      "source": [
        "# Question 4"
      ]
    },
    {
      "cell_type": "markdown",
      "metadata": {
        "id": "FjJPFooqF7Hm"
      },
      "source": [
        "Write a program that takes an amount in Indian Rupees as input. You need to find its equivalent\n",
        "in Euro and display it. Assume 1 Euro equals Rs. 80.\n",
        "Please note that you are expected to stick to the given input and output\n",
        "format as in sample test cases. Please don't add any extra lines such as\n",
        "'Enter a number', etc.\n",
        "Your program should take only one number as input and display the output."
      ]
    },
    {
      "cell_type": "code",
      "metadata": {
        "id": "wbu3RLTREnb-",
        "outputId": "4791d288-03c9-4b63-a0d7-914774018d9d",
        "colab": {
          "base_uri": "https://localhost:8080/"
        }
      },
      "source": [
        "rupee=int(input())\n",
        "euro=rupee*80\n",
        "print(euro)"
      ],
      "execution_count": 4,
      "outputs": [
        {
          "output_type": "stream",
          "text": [
            "20\n",
            "1600\n"
          ],
          "name": "stdout"
        }
      ]
    }
  ]
}